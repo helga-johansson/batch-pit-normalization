{
 "cells": [
  {
   "cell_type": "code",
   "execution_count": 1,
   "metadata": {},
   "outputs": [
    {
     "name": "stdout",
     "output_type": "stream",
     "text": [
      "Using cuda device\n"
     ]
    }
   ],
   "source": [
    "import torch\n",
    "import numpy as np\n",
    "import matplotlib.pyplot as plt\n",
    "from modules.BatchPitNormalization import BatchPitNorm1d\n",
    "import torch.nn as nn \n",
    "import torch.optim as optim\n",
    "from torch.utils.data import DataLoader\n",
    "\n",
    "device = \"cuda\" if torch.cuda.is_available() else \"cpu\"\n",
    "\n",
    "print(f\"Using {device} device\")\n"
   ]
  },
  {
   "cell_type": "code",
   "execution_count": 2,
   "metadata": {},
   "outputs": [
    {
     "name": "stdout",
     "output_type": "stream",
     "text": [
      "206864.41315519012\n"
     ]
    }
   ],
   "source": [
    "from sklearn.model_selection import train_test_split\n",
    "from sklearn.preprocessing import StandardScaler\n",
    "\n",
    "data = np.genfromtxt('data/housing.csv', delimiter=\",\",skip_header=1)\n",
    "\n",
    "data = np.delete(data, [-1], axis=1)\n",
    "\n",
    "\n",
    "X = data[:,:8]\n",
    "Y = data[:,8].reshape(-1,1)\n",
    "\n",
    "\n",
    "\n",
    "Y=Y[~np.isnan(X).any(axis=1)]\n",
    "X=X[~np.isnan(X).any(axis=1)]\n",
    "\n",
    "print(np.mean(Y))\n",
    "\n",
    "X_train_raw, X_test_raw, y_train_raw, y_test_raw = train_test_split(X, Y, train_size = 0.7, shuffle = True)\n",
    "\n",
    "scalerX = StandardScaler()\n",
    "scalerY = StandardScaler()\n",
    "# scale\n",
    "scaler_x = scalerX.fit(X_train_raw)\n",
    "scaler_y = scalerY.fit(y_train_raw)\n",
    "\n",
    "X_train = scaler_x.transform(X_train_raw)\n",
    "X_test = scaler_x.transform(X_test_raw)\n",
    "\n",
    "\n",
    "y_train = scaler_y.transform(y_train_raw)\n",
    "y_test = scaler_y.transform(y_test_raw)\n",
    "\n",
    "X_train = torch.tensor(X_train, dtype=torch.float32, device=device)\n",
    "y_train = torch.tensor(y_train, dtype=torch.float32, device=device).reshape(-1,1)\n",
    "X_test = torch.tensor(X_test, dtype=torch.float32, device=device)\n",
    "y_test = torch.tensor(y_test, dtype=torch.float32, device=device).reshape(-1,1)\n",
    "\n"
   ]
  },
  {
   "cell_type": "code",
   "execution_count": 3,
   "metadata": {},
   "outputs": [
    {
     "name": "stdout",
     "output_type": "stream",
     "text": [
      "R2-score:  0.635885706658853\n",
      "MAE: 51412.484\n",
      "RMSE: 69724.08\n"
     ]
    }
   ],
   "source": [
    "from sklearn.linear_model import LinearRegression\n",
    "from sklearn.metrics import mean_absolute_error, root_mean_squared_error, r2_score\n",
    "#baseline with ordinary least squares Linear Regression\n",
    "X_train_bl = X_train.detach().cpu().numpy()\n",
    "Y_train_bl = y_train.detach().cpu().numpy()\n",
    "x_test_bl = X_test.detach().cpu().numpy()\n",
    "y_test_bl = y_test.detach().cpu().numpy()\n",
    "reg = LinearRegression().fit(X_train_bl, Y_train_bl)\n",
    "reg.score(X_train_bl,Y_train_bl)\n",
    "y_pred_bl = reg.predict(x_test_bl)\n",
    "y_pred_bl = scaler_y.inverse_transform(y_pred_bl)\n",
    "y_test_bl = scaler_y.inverse_transform(y_test_bl)\n",
    "print(\"R2-score: \", r2_score(y_test_bl,y_pred_bl))\n",
    "print(\"MAE:\", mean_absolute_error(y_test_bl,y_pred_bl))\n",
    "print(\"RMSE:\", root_mean_squared_error(y_test_bl,y_pred_bl))"
   ]
  },
  {
   "cell_type": "code",
   "execution_count": 4,
   "metadata": {},
   "outputs": [],
   "source": [
    "#without bn\n",
    "class NeuralNetwork(nn.Module):\n",
    "    def __init__(self, input_size, hidden_size, num_classes):\n",
    "        super(NeuralNetwork, self).__init__()\n",
    "        self.layer1 = nn.Linear(input_size, hidden_size)\n",
    "        self.layer2 = nn.Linear(hidden_size, hidden_size)\n",
    "        self.layer3 = nn.Linear(hidden_size, hidden_size)\n",
    "        self.layer4 = nn.Linear(hidden_size, num_classes)\n",
    "        self.activation_function = nn.ReLU()\n",
    " \n",
    "    def forward(self, x):\n",
    "        x = self.activation_function(self.layer1(x))\n",
    "        x = self.activation_function(self.layer2(x))\n",
    "        x = self.activation_function(self.layer3(x))\n",
    "        x = self.layer4(x)\n",
    "        return x"
   ]
  },
  {
   "cell_type": "code",
   "execution_count": 5,
   "metadata": {},
   "outputs": [],
   "source": [
    "#without bn with dropout\n",
    "class NeuralNetwork2(nn.Module):\n",
    "    def __init__(self, input_size, hidden_size, num_classes):\n",
    "        super(NeuralNetwork2, self).__init__()\n",
    "        self.layer1 = nn.Linear(input_size, hidden_size)\n",
    "        self.layer2 = nn.Linear(hidden_size, hidden_size)\n",
    "        self.layer3 = nn.Linear(hidden_size, hidden_size)\n",
    "        self.layer4 = nn.Linear(hidden_size, num_classes)\n",
    "        self.activation_function = nn.ReLU()\n",
    "        self.dropout1 = nn.Dropout1d(0.25)\n",
    " \n",
    "    def forward(self, x):\n",
    "        x = self.activation_function(self.layer1(x))\n",
    "        x = self.dropout1(x)\n",
    "        x = self.activation_function(self.layer2(x))\n",
    "        x = self.activation_function(self.layer3(x))\n",
    "        x = self.layer4(x)\n",
    "        return x"
   ]
  },
  {
   "cell_type": "code",
   "execution_count": 6,
   "metadata": {},
   "outputs": [],
   "source": [
    "# with 2 bn on first two layers\n",
    "class NeuralNetwork3(nn.Module):\n",
    "    def __init__(self, input_size:int, hidden_size:int, num_classes:int):\n",
    "        super(NeuralNetwork3, self).__init__()\n",
    "        self.layer1 = nn.Linear(input_size, hidden_size)\n",
    "        self.layer2 = nn.Linear(hidden_size, hidden_size)\n",
    "        self.layer3 = nn.Linear(hidden_size, hidden_size)\n",
    "        self.layer4 = nn.Linear(hidden_size, num_classes)\n",
    "        self.activation_function = nn.ReLU()\n",
    "        self.bn1 = nn.BatchNorm1d(hidden_size)\n",
    "        self.bn2 = nn.BatchNorm1d(hidden_size)\n",
    " \n",
    "    def forward(self, x):\n",
    "        x = self.activation_function(self.bn1((self.layer1(x))))\n",
    "        x = self.activation_function(self.bn2((self.layer2(x))))\n",
    "        x = self.activation_function((self.layer3(x)))\n",
    "        x = self.layer4(x)\n",
    "        return x\n"
   ]
  },
  {
   "cell_type": "code",
   "execution_count": 7,
   "metadata": {},
   "outputs": [],
   "source": [
    "# with  3 bn\n",
    "class NeuralNetwork4(nn.Module):\n",
    "    def __init__(self, input_size, hidden_size, num_classes):\n",
    "        super(NeuralNetwork4, self).__init__()\n",
    "        self.layer1 = nn.Linear(input_size, hidden_size)\n",
    "        self.layer2 = nn.Linear(hidden_size, hidden_size)\n",
    "        self.layer3 = nn.Linear(hidden_size, hidden_size)\n",
    "        self.layer4 = nn.Linear(hidden_size, num_classes)\n",
    "        self.activation_function = nn.ReLU\n",
    "        self.bn1 = nn.BatchNorm1d(hidden_size)\n",
    "        self.bn2 = nn.BatchNorm1d(hidden_size)\n",
    "        self.bn3 = nn.BatchNorm1d(hidden_size)\n",
    " \n",
    "    def forward(self, x):\n",
    "        x = self.activation_function(self.bn1((self.layer1(x))))\n",
    "        x = self.activation_function(self.bn2((self.layer2(x))))\n",
    "        x = self.activation_function(self.bn3((self.layer3(x))))\n",
    "        x = self.layer4(x)\n",
    "        return x"
   ]
  },
  {
   "cell_type": "code",
   "execution_count": 12,
   "metadata": {},
   "outputs": [],
   "source": [
    "def get_train_test_data(X,Y):\n",
    "    X_train_raw, X_test_raw, y_train_raw, y_test_raw = train_test_split(X, Y, train_size = 0.7, shuffle = True)\n",
    "    #scalers\n",
    "    scaler_x = StandardScaler().fit(X_train_raw)\n",
    "    scaler_y = StandardScaler().fit(y_train_raw)\n",
    "\n",
    "    #scale data\n",
    "    X_train = scaler_x.transform(X_train_raw)\n",
    "    X_test = scaler_x.transform(X_test_raw)\n",
    "    y_train = scaler_y.transform(y_train_raw)\n",
    "    y_test = scaler_y.transform(y_test_raw)\n",
    "    #make tensors\n",
    "    X_train = torch.tensor(X_train, dtype=torch.float32, device=device)\n",
    "    y_train = torch.tensor(y_train, dtype=torch.float32, device=device).reshape(-1,1)\n",
    "    X_test = torch.tensor(X_test, dtype=torch.float32, device=device)\n",
    "    y_test = torch.tensor(y_test, dtype=torch.float32, device=device).reshape(-1,1)\n",
    "\n",
    "    return X_train, y_train, X_test, y_test, scaler_x, scaler_y"
   ]
  },
  {
   "cell_type": "code",
   "execution_count": 14,
   "metadata": {},
   "outputs": [],
   "source": [
    "def train_model(NN):\n",
    "    X_train,y_train,X_test,y_test, scaler_x,scaler_y = get_train_test_data(X,Y)\n",
    "    input_size = 8\n",
    "    hidden_size = 32\n",
    "    num_classes = 1\n",
    "    learning_rate = 0.001 \n",
    "    n_epochs = 30 \n",
    "    batch_size = 128\n",
    "\n",
    "    model = NN(input_size, hidden_size, num_classes).to(device)\n",
    "    model.cuda()\n",
    "    lossFunction = nn.MSELoss().to(device)\n",
    "    optimizer = optim.Adam(model.parameters(), lr=learning_rate)\n",
    "    loader = DataLoader(list(zip(X_train, y_train)), shuffle=True, batch_size=batch_size)\n",
    "    model.train()\n",
    "    for epoch in range(n_epochs):\n",
    "        running_loss = 0.0\n",
    "        for Xbatch, ybatch in loader:\n",
    "            y_pred = model(Xbatch)\n",
    "            loss = lossFunction(y_pred, ybatch)\n",
    "            optimizer.zero_grad()\n",
    "            loss.backward()\n",
    "            optimizer.step()\n",
    "\n",
    "    model.eval()\n",
    "    y_pred_eval = model(X_test)\n",
    "    y_pred_eval = y_pred_eval.detach().cpu().numpy()\n",
    "    y_pred_scaled = scaler_y.inverse_transform(y_pred_eval)\n",
    "    y_test_eval = y_test.detach().cpu().numpy()\n",
    "    y_test_scaled = scaler_y.inverse_transform(y_test_eval)\n",
    "    r2 = r2_score(y_test_scaled,y_pred_scaled)\n",
    "    mae = mean_absolute_error(y_test_scaled,y_pred_scaled)\n",
    "    rmse = root_mean_squared_error(y_test_scaled,y_pred_scaled)\n",
    "    #print(\"R2-score: \",r2)\n",
    "    #print(\"MAE: \", mae)\n",
    "    #print(\"RMSE: \", rmse)\n",
    "    return r2, mae,rmse"
   ]
  },
  {
   "cell_type": "code",
   "execution_count": 15,
   "metadata": {},
   "outputs": [],
   "source": [
    "R2_list = []\n",
    "MAE_list = []\n",
    "RMSE_list = []\n",
    "R2_list_bn = []\n",
    "MAE_list_bn = []\n",
    "RMSE_list_bn = []\n",
    "\n",
    "for i in range(5):\n",
    "    r2,mae,rmse = train_model(NeuralNetwork)\n",
    "    r2_bn,mae_bn,rmse_bn = train_model(NeuralNetwork3)\n",
    "    R2_list.append(r2)\n",
    "    MAE_list.append(mae)\n",
    "    RMSE_list.append(rmse)\n",
    "    R2_list_bn.append(r2_bn)\n",
    "    MAE_list_bn.append(mae_bn)\n",
    "    RMSE_list_bn.append(rmse_bn)\n"
   ]
  },
  {
   "cell_type": "code",
   "execution_count": 16,
   "metadata": {},
   "outputs": [
    {
     "data": {
      "text/plain": [
       "Text(0.5, 1.0, 'RMSE')"
      ]
     },
     "execution_count": 16,
     "metadata": {},
     "output_type": "execute_result"
    },
    {
     "data": {
      "image/png": "[encoded data removed]",
      "text/plain": [
       "<Figure size 640x480 with 1 Axes>"
      ]
     },
     "metadata": {},
     "output_type": "display_data"
    },
    {
     "data": {
      "image/png": "[encoded data removed]",
      "text/plain": [
       "<Figure size 640x480 with 1 Axes>"
      ]
     },
     "metadata": {},
     "output_type": "display_data"
    },
    {
     "data": {
      "image/png": "[encoded data removed]",
      "text/plain": [
       "<Figure size 640x480 with 1 Axes>"
      ]
     },
     "metadata": {},
     "output_type": "display_data"
    }
   ],
   "source": [
    "plt.boxplot([R2_list,R2_list_bn],labels=[\"no bn\", \"with bn\"])\n",
    "plt.title(\"R2-score\")\n",
    "plt.figure()\n",
    "plt.boxplot([MAE_list,MAE_list_bn],labels=[\"no bn\", \"with bn\"])\n",
    "plt.title(\"MAE\")\n",
    "plt.figure()\n",
    "plt.boxplot([RMSE_list,RMSE_list_bn],labels=[\"no bn\", \"with bn\"])\n",
    "plt.title(\"RMSE\")"
   ]
  }
 ],
 "metadata": {
  "kernelspec": {
   "display_name": "dl",
   "language": "python",
   "name": "python3"
  },
  "language_info": {
   "codemirror_mode": {
    "name": "ipython",
    "version": 3
   },
   "file_extension": ".py",
   "mimetype": "text/x-python",
   "name": "python",
   "nbconvert_exporter": "python",
   "pygments_lexer": "ipython3",
   "version": "3.11.0"
  }
 },
 "nbformat": 4,
 "nbformat_minor": 2
}
